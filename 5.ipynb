{
 "cells": [
  {
   "cell_type": "code",
   "execution_count": 1,
   "id": "4550f272-9ea4-449d-8130-cc03fb476ec4",
   "metadata": {},
   "outputs": [],
   "source": [
    "import pandas as pd\n",
    "import numpy as np\n",
    "import matplotlib.pyplot as plt\n",
    "import\tseaborn\tas\tsns\n",
    "from\tsklearn.model_selection\timport\ttrain_test_split\n",
    "from\tsklearn.preprocessing\timport\tStandardScaler,\tLabelEncoder\n",
    "from\tsklearn.linear_model\timport\tLogisticRegression\n",
    "from\tsklearn.metrics\timport\tconfusion_matrix,\taccuracy_score,\tprecision_score,\trecall_score"
   ]
  },
  {
   "cell_type": "code",
   "execution_count": 2,
   "id": "465884e4-324a-41c7-bd9c-f7387bd1531c",
   "metadata": {},
   "outputs": [],
   "source": [
    " \n",
    "df = pd.read_csv(\"Social_Network_Ads.csv\")"
   ]
  },
  {
   "cell_type": "code",
   "execution_count": 3,
   "id": "6ab65803-bc5a-4d92-bc0c-e8fd8fead745",
   "metadata": {},
   "outputs": [
    {
     "data": {
      "text/html": [
       "<div>\n",
       "<style scoped>\n",
       "    .dataframe tbody tr th:only-of-type {\n",
       "        vertical-align: middle;\n",
       "    }\n",
       "\n",
       "    .dataframe tbody tr th {\n",
       "        vertical-align: top;\n",
       "    }\n",
       "\n",
       "    .dataframe thead th {\n",
       "        text-align: right;\n",
       "    }\n",
       "</style>\n",
       "<table border=\"1\" class=\"dataframe\">\n",
       "  <thead>\n",
       "    <tr style=\"text-align: right;\">\n",
       "      <th></th>\n",
       "      <th>User ID</th>\n",
       "      <th>Gender</th>\n",
       "      <th>Age</th>\n",
       "      <th>EstimatedSalary</th>\n",
       "      <th>Purchased</th>\n",
       "    </tr>\n",
       "  </thead>\n",
       "  <tbody>\n",
       "    <tr>\n",
       "      <th>0</th>\n",
       "      <td>15624510</td>\n",
       "      <td>Male</td>\n",
       "      <td>19</td>\n",
       "      <td>19000</td>\n",
       "      <td>0</td>\n",
       "    </tr>\n",
       "    <tr>\n",
       "      <th>1</th>\n",
       "      <td>15810944</td>\n",
       "      <td>Male</td>\n",
       "      <td>35</td>\n",
       "      <td>20000</td>\n",
       "      <td>0</td>\n",
       "    </tr>\n",
       "    <tr>\n",
       "      <th>2</th>\n",
       "      <td>15668575</td>\n",
       "      <td>Female</td>\n",
       "      <td>26</td>\n",
       "      <td>43000</td>\n",
       "      <td>0</td>\n",
       "    </tr>\n",
       "    <tr>\n",
       "      <th>3</th>\n",
       "      <td>15603246</td>\n",
       "      <td>Female</td>\n",
       "      <td>27</td>\n",
       "      <td>57000</td>\n",
       "      <td>0</td>\n",
       "    </tr>\n",
       "    <tr>\n",
       "      <th>4</th>\n",
       "      <td>15804002</td>\n",
       "      <td>Male</td>\n",
       "      <td>19</td>\n",
       "      <td>76000</td>\n",
       "      <td>0</td>\n",
       "    </tr>\n",
       "  </tbody>\n",
       "</table>\n",
       "</div>"
      ],
      "text/plain": [
       "    User ID  Gender  Age  EstimatedSalary  Purchased\n",
       "0  15624510    Male   19            19000          0\n",
       "1  15810944    Male   35            20000          0\n",
       "2  15668575  Female   26            43000          0\n",
       "3  15603246  Female   27            57000          0\n",
       "4  15804002    Male   19            76000          0"
      ]
     },
     "execution_count": 3,
     "metadata": {},
     "output_type": "execute_result"
    }
   ],
   "source": [
    "\n",
    "df.head()"
   ]
  },
  {
   "cell_type": "code",
   "execution_count": 4,
   "id": "c10559a6-3f63-4269-afc1-f5627b6ab02c",
   "metadata": {},
   "outputs": [
    {
     "name": "stdout",
     "output_type": "stream",
     "text": [
      "<class 'pandas.core.frame.DataFrame'>\n",
      "RangeIndex: 400 entries, 0 to 399\n",
      "Data columns (total 5 columns):\n",
      " #   Column           Non-Null Count  Dtype \n",
      "---  ------           --------------  ----- \n",
      " 0   User ID          400 non-null    int64 \n",
      " 1   Gender           400 non-null    object\n",
      " 2   Age              400 non-null    int64 \n",
      " 3   EstimatedSalary  400 non-null    int64 \n",
      " 4   Purchased        400 non-null    int64 \n",
      "dtypes: int64(4), object(1)\n",
      "memory usage: 15.8+ KB\n"
     ]
    }
   ],
   "source": [
    "df.info()"
   ]
  },
  {
   "cell_type": "code",
   "execution_count": 5,
   "id": "1624aa7b-31d3-4291-8123-7ddef43bc008",
   "metadata": {},
   "outputs": [
    {
     "data": {
      "text/html": [
       "<div>\n",
       "<style scoped>\n",
       "    .dataframe tbody tr th:only-of-type {\n",
       "        vertical-align: middle;\n",
       "    }\n",
       "\n",
       "    .dataframe tbody tr th {\n",
       "        vertical-align: top;\n",
       "    }\n",
       "\n",
       "    .dataframe thead th {\n",
       "        text-align: right;\n",
       "    }\n",
       "</style>\n",
       "<table border=\"1\" class=\"dataframe\">\n",
       "  <thead>\n",
       "    <tr style=\"text-align: right;\">\n",
       "      <th></th>\n",
       "      <th>User ID</th>\n",
       "      <th>Age</th>\n",
       "      <th>EstimatedSalary</th>\n",
       "      <th>Purchased</th>\n",
       "    </tr>\n",
       "  </thead>\n",
       "  <tbody>\n",
       "    <tr>\n",
       "      <th>count</th>\n",
       "      <td>4.000000e+02</td>\n",
       "      <td>400.000000</td>\n",
       "      <td>400.000000</td>\n",
       "      <td>400.000000</td>\n",
       "    </tr>\n",
       "    <tr>\n",
       "      <th>mean</th>\n",
       "      <td>1.569154e+07</td>\n",
       "      <td>37.655000</td>\n",
       "      <td>69742.500000</td>\n",
       "      <td>0.357500</td>\n",
       "    </tr>\n",
       "    <tr>\n",
       "      <th>std</th>\n",
       "      <td>7.165832e+04</td>\n",
       "      <td>10.482877</td>\n",
       "      <td>34096.960282</td>\n",
       "      <td>0.479864</td>\n",
       "    </tr>\n",
       "    <tr>\n",
       "      <th>min</th>\n",
       "      <td>1.556669e+07</td>\n",
       "      <td>18.000000</td>\n",
       "      <td>15000.000000</td>\n",
       "      <td>0.000000</td>\n",
       "    </tr>\n",
       "    <tr>\n",
       "      <th>25%</th>\n",
       "      <td>1.562676e+07</td>\n",
       "      <td>29.750000</td>\n",
       "      <td>43000.000000</td>\n",
       "      <td>0.000000</td>\n",
       "    </tr>\n",
       "    <tr>\n",
       "      <th>50%</th>\n",
       "      <td>1.569434e+07</td>\n",
       "      <td>37.000000</td>\n",
       "      <td>70000.000000</td>\n",
       "      <td>0.000000</td>\n",
       "    </tr>\n",
       "    <tr>\n",
       "      <th>75%</th>\n",
       "      <td>1.575036e+07</td>\n",
       "      <td>46.000000</td>\n",
       "      <td>88000.000000</td>\n",
       "      <td>1.000000</td>\n",
       "    </tr>\n",
       "    <tr>\n",
       "      <th>max</th>\n",
       "      <td>1.581524e+07</td>\n",
       "      <td>60.000000</td>\n",
       "      <td>150000.000000</td>\n",
       "      <td>1.000000</td>\n",
       "    </tr>\n",
       "  </tbody>\n",
       "</table>\n",
       "</div>"
      ],
      "text/plain": [
       "            User ID         Age  EstimatedSalary   Purchased\n",
       "count  4.000000e+02  400.000000       400.000000  400.000000\n",
       "mean   1.569154e+07   37.655000     69742.500000    0.357500\n",
       "std    7.165832e+04   10.482877     34096.960282    0.479864\n",
       "min    1.556669e+07   18.000000     15000.000000    0.000000\n",
       "25%    1.562676e+07   29.750000     43000.000000    0.000000\n",
       "50%    1.569434e+07   37.000000     70000.000000    0.000000\n",
       "75%    1.575036e+07   46.000000     88000.000000    1.000000\n",
       "max    1.581524e+07   60.000000    150000.000000    1.000000"
      ]
     },
     "execution_count": 5,
     "metadata": {},
     "output_type": "execute_result"
    }
   ],
   "source": [
    "df.describe()"
   ]
  },
  {
   "cell_type": "code",
   "execution_count": 6,
   "id": "5ab24a43-3b7b-4560-8bac-daaf24663b0e",
   "metadata": {},
   "outputs": [
    {
     "data": {
      "text/plain": [
       "User ID            0\n",
       "Gender             0\n",
       "Age                0\n",
       "EstimatedSalary    0\n",
       "Purchased          0\n",
       "dtype: int64"
      ]
     },
     "execution_count": 6,
     "metadata": {},
     "output_type": "execute_result"
    }
   ],
   "source": [
    "df.isnull().sum()"
   ]
  },
  {
   "cell_type": "code",
   "execution_count": 7,
   "id": "5f35cf43-f12d-46b9-9732-b9f3b85fa7c1",
   "metadata": {},
   "outputs": [
    {
     "name": "stderr",
     "output_type": "stream",
     "text": [
      "C:\\Users\\Shruti\\AppData\\Local\\Temp\\ipykernel_3376\\24104161.py:4: FutureWarning: Downcasting behavior in `replace` is deprecated and will be removed in a future version. To retain the old behavior, explicitly call `result.infer_objects(copy=False)`. To opt-in to the future behavior, set `pd.set_option('future.no_silent_downcasting', True)`\n",
      "  df['Gender'] = df['Gender'].replace(gender_mapping)\n"
     ]
    }
   ],
   "source": [
    "\n",
    "# Creating a mapping for Gender\n",
    "gender_mapping = {'Male': 0, 'Female': 1}\n",
    "\n",
    "df['Gender'] = df['Gender'].replace(gender_mapping)"
   ]
  },
  {
   "cell_type": "code",
   "execution_count": 8,
   "id": "80d837cc-6f6d-4985-816a-3e9fcefe9fe4",
   "metadata": {},
   "outputs": [],
   "source": [
    "#\tSplit\tdata\tinto\tfeatures\tand\ttarget\tvariable\n",
    "X\t=\tdf[['Age',\t'Gender',\t'EstimatedSalary']]\n",
    "y\t=\tdf['Purchased']"
   ]
  },
  {
   "cell_type": "code",
   "execution_count": 9,
   "id": "e72b6321-d1e4-4678-9968-b96e3034fc95",
   "metadata": {},
   "outputs": [],
   "source": [
    "#\tSplit\tinto\ttraining\tand\ttest\tsets\n",
    "X_train,X_test,\ty_train,y_test\t=\ttrain_test_split(X,\ty,\ttest_size=0.25,\trandom_state=42)"
   ]
  },
  {
   "cell_type": "code",
   "execution_count": 10,
   "id": "0c28db1c-7654-4725-9a22-d24784036be7",
   "metadata": {},
   "outputs": [],
   "source": [
    "# Feature\tscaling\n",
    "scaler\t=\tStandardScaler()\n",
    "X_train\t=\tscaler.fit_transform(X_train)\n",
    "X_test\t=\tscaler.transform(X_test)"
   ]
  },
  {
   "cell_type": "code",
   "execution_count": 11,
   "id": "4d0c61b0-f15f-4d32-b5fc-111dd3437b99",
   "metadata": {},
   "outputs": [
    {
     "data": {
      "text/plain": [
       "array([0, 1, 0, 1, 0, 0, 1, 0, 0, 0, 0, 1, 0, 0, 0, 0, 1, 1, 0, 1, 0, 0,\n",
       "       0, 1, 0, 1, 1, 0, 1, 0, 0, 0, 1, 0, 1, 0, 0, 0, 0, 0, 0, 0, 0, 0,\n",
       "       0, 1, 0, 0, 1, 0, 0, 1, 0, 0, 0, 0, 1, 0, 0, 0, 0, 0, 1, 0, 0, 0,\n",
       "       1, 1, 0, 0, 1, 0, 0, 0, 0, 0, 1, 1, 0, 0, 0, 0, 1, 0, 1, 0, 0, 1,\n",
       "       0, 0, 1, 0, 0, 0, 0, 0, 1, 0, 1, 0], dtype=int64)"
      ]
     },
     "execution_count": 11,
     "metadata": {},
     "output_type": "execute_result"
    }
   ],
   "source": [
    "#\tTrain\tLogistic\tRegression\tmodel\n",
    "classifier\t=\tLogisticRegression(random_state=42)\n",
    "classifier.fit(X_train,\ty_train)\n",
    "#\tPredicton\ttest\tset\n",
    "y_pred\t=\tclassifier.predict(X_test)\n",
    "y_prob\t=\tclassifier.predict_proba(X_test)[:,\t1]\t\t#\tGet\tprobabilities\tfor\tclass\t1\t(Purchased)\n",
    "y_pred"
   ]
  },
  {
   "cell_type": "code",
   "execution_count": 12,
   "id": "8e81c9af-c238-4ee6-9795-4bef4d855061",
   "metadata": {},
   "outputs": [],
   "source": [
    "#\tCompute\tconfusion\tmatrix\n",
    "cm\t=\tconfusion_matrix(y_test,\ty_pred)\n",
    "TP\t=\tcm[1,\t1]\n",
    "FP\t=\tcm[0,\t1]\n",
    "TN\t=\tcm[0,\t0]\n",
    "FN\t=\tcm[1,\t0]\n",
    "#\tPrint\tresults\n",
    "#\tCompute\tevaluation\tmetrics+\n",
    "\n",
    "accuracy\t=\taccuracy_score(y_test,\ty_pred)\n",
    "error_rate\t=\t1\t-\taccuracy\n",
    "precision\t=\tprecision_score(y_test,\ty_pred,\tzero_division=1)\n",
    "recall\t=\trecall_score(y_test,\ty_pred,\t)"
   ]
  },
  {
   "cell_type": "code",
   "execution_count": 13,
   "id": "0e6c8768-7970-4567-b840-0659ad0dce73",
   "metadata": {},
   "outputs": [
    {
     "name": "stdout",
     "output_type": "stream",
     "text": [
      "\n",
      "Confusion Matrix:\n",
      " [[61  2]\n",
      " [10 27]]\n"
     ]
    }
   ],
   "source": [
    " #\tPrint\tresults\n",
    " print(\"\\nConfusion Matrix:\\n\",\tcm)"
   ]
  },
  {
   "cell_type": "code",
   "execution_count": 14,
   "id": "daf8088e-d5da-4e95-9ed3-3d5f82145b21",
   "metadata": {},
   "outputs": [
    {
     "name": "stdout",
     "output_type": "stream",
     "text": [
      "\n",
      "Accuracy:0.88(Formula:(TP+TN)/(TP+FP+TN\t+FN))\n"
     ]
    }
   ],
   "source": [
    "print(f\"\\nAccuracy:{accuracy:.2f}(Formula:(TP+TN)/(TP+FP+TN\t+FN))\")"
   ]
  },
  {
   "cell_type": "code",
   "execution_count": 15,
   "id": "0635bde8-7c50-45d7-b33c-7332c03e163e",
   "metadata": {},
   "outputs": [
    {
     "name": "stdout",
     "output_type": "stream",
     "text": [
      "Error\tRate:\t0.12\t(Formula:\t1\t-\tAccuracy)\n"
     ]
    }
   ],
   "source": [
    " print(f\"Error\tRate:\t{error_rate:.2f}\t(Formula:\t1\t-\tAccuracy)\")"
   ]
  },
  {
   "cell_type": "code",
   "execution_count": 16,
   "id": "05c29c41-0ea2-4296-bcd5-ebc25af9b8f3",
   "metadata": {},
   "outputs": [
    {
     "name": "stdout",
     "output_type": "stream",
     "text": [
      "Precision: 0.93 (Formula: TP / (TP + FP))\n"
     ]
    }
   ],
   "source": [
    "# Print Precision\n",
    "print(f\"Precision: {precision:.2f} (Formula: TP / (TP + FP))\")"
   ]
  },
  {
   "cell_type": "code",
   "execution_count": 17,
   "id": "b2dcb96b-b400-4e40-8fac-b2fb29646093",
   "metadata": {},
   "outputs": [
    {
     "name": "stdout",
     "output_type": "stream",
     "text": [
      "Recall: 0.73 (Formula: TP / (TP + FN))\n"
     ]
    }
   ],
   "source": [
    "# Print Recall\n",
    "print(f\"Recall: {recall:.2f} (Formula: TP / (TP + FN))\")"
   ]
  },
  {
   "cell_type": "code",
   "execution_count": 18,
   "id": "18a37e4c-52f4-46b1-955e-5b514c5476a7",
   "metadata": {},
   "outputs": [
    {
     "name": "stdout",
     "output_type": "stream",
     "text": [
      "\n",
      "Sample Predictions with Probability:\n",
      "    Actual  Predicted  Probability\n",
      "0       0          0     0.256173\n",
      "1       1          1     0.970592\n",
      "2       0          0     0.022059\n",
      "3       1          1     0.840024\n",
      "4       0          0     0.016168\n"
     ]
    }
   ],
   "source": [
    "# Display some predictions with their probabilities\n",
    "df_results = pd.DataFrame({\n",
    "    \"Actual\": y_test.values,\n",
    "    \"Predicted\": y_pred,\n",
    "    \"Probability\": y_prob\n",
    "})\n",
    "print(\"\\nSample Predictions with Probability:\\n\", df_results.head())"
   ]
  },
  {
   "cell_type": "code",
   "execution_count": 20,
   "id": "07958661-69b0-49a0-a9e6-a4b6e996680e",
   "metadata": {},
   "outputs": [
    {
     "data": {
      "image/png": "[encoded data removed]",
      "text/plain": [
       "<Figure size 600x400 with 2 Axes>"
      ]
     },
     "metadata": {},
     "output_type": "display_data"
    }
   ],
   "source": [
    "# Plot confusion matrix\n",
    "plt.figure(figsize=(6, 4))\n",
    "sns.heatmap(cm, annot=True, \n",
    "            xticklabels=['Not Purchased', 'Purchased'],\n",
    "            yticklabels=['Not Purchased', 'Purchased'])\n",
    "plt.xlabel('Predicted')\n",
    "plt.ylabel('Actual')\n",
    "plt.title('Confusion Matrix')\n",
    "plt.show()"
   ]
  },
  {
   "cell_type": "code",
   "execution_count": null,
   "id": "91a9304a-694e-4761-b431-c06c8978e68c",
   "metadata": {},
   "outputs": [],
   "source": []
  }
 ],
 "metadata": {
  "kernelspec": {
   "display_name": "Python (tensorflow)",
   "language": "python",
   "name": "tensorflow"
  },
  "language_info": {
   "codemirror_mode": {
    "name": "ipython",
    "version": 3
   },
   "file_extension": ".py",
   "mimetype": "text/x-python",
   "name": "python",
   "nbconvert_exporter": "python",
   "pygments_lexer": "ipython3",
   "version": "3.10.16"
  }
 },
 "nbformat": 4,
 "nbformat_minor": 5
}
