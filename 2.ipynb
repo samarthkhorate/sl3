{
 "cells": [
  {
   "cell_type": "code",
   "execution_count": 1,
   "id": "c443a594-39f2-4708-ba29-c6ffa77398cc",
   "metadata": {},
   "outputs": [],
   "source": [
    "import pandas as pd\n",
    "import numpy as np\n",
    "import matplotlib.pyplot as plt\n",
    "import seaborn as sns"
   ]
  },
  {
   "cell_type": "code",
   "execution_count": 2,
   "id": "37f912fe-fc0b-47ee-9c73-83243f7f77b6",
   "metadata": {},
   "outputs": [],
   "source": [
    "data = {\n",
    "    'Student_ID': range(1, 11),\n",
    "    'Math_Score': [78, 85, 92, np.nan, 88, 76, 95, 89, 101, 45], \n",
    "    'Science_Score': [80, 89, 94, 85, 78, np.nan, 88, 92, 99, 50],  \n",
    "    'Attendance (%)': [95, 88, 92, 85, 90, 100, 75, np.nan, 98, 60],  \n",
    "    'Study_Hours': [2, 3, 4, 1, 2.5, 3.5, 4.5, 5, 10, 0],  \n",
    "    'Participation': ['Yes', 'No', 'Yes', 'No', 'Yes', 'Yes', 'No', 'Yes', 'No', 'No']\n",
    "}\n",
    "\n",
    "df = pd.DataFrame(data)"
   ]
  },
  {
   "cell_type": "code",
   "execution_count": 3,
   "id": "ac54c2c4-7aa3-478b-a6b6-eb2bfedf7e93",
   "metadata": {},
   "outputs": [
    {
     "data": {
      "text/html": [
       "<div>\n",
       "<style scoped>\n",
       "    .dataframe tbody tr th:only-of-type {\n",
       "        vertical-align: middle;\n",
       "    }\n",
       "\n",
       "    .dataframe tbody tr th {\n",
       "        vertical-align: top;\n",
       "    }\n",
       "\n",
       "    .dataframe thead th {\n",
       "        text-align: right;\n",
       "    }\n",
       "</style>\n",
       "<table border=\"1\" class=\"dataframe\">\n",
       "  <thead>\n",
       "    <tr style=\"text-align: right;\">\n",
       "      <th></th>\n",
       "      <th>Student_ID</th>\n",
       "      <th>Math_Score</th>\n",
       "      <th>Science_Score</th>\n",
       "      <th>Attendance (%)</th>\n",
       "      <th>Study_Hours</th>\n",
       "      <th>Participation</th>\n",
       "    </tr>\n",
       "  </thead>\n",
       "  <tbody>\n",
       "    <tr>\n",
       "      <th>0</th>\n",
       "      <td>1</td>\n",
       "      <td>78.0</td>\n",
       "      <td>80.0</td>\n",
       "      <td>95.0</td>\n",
       "      <td>2.0</td>\n",
       "      <td>Yes</td>\n",
       "    </tr>\n",
       "    <tr>\n",
       "      <th>1</th>\n",
       "      <td>2</td>\n",
       "      <td>85.0</td>\n",
       "      <td>89.0</td>\n",
       "      <td>88.0</td>\n",
       "      <td>3.0</td>\n",
       "      <td>No</td>\n",
       "    </tr>\n",
       "    <tr>\n",
       "      <th>2</th>\n",
       "      <td>3</td>\n",
       "      <td>92.0</td>\n",
       "      <td>94.0</td>\n",
       "      <td>92.0</td>\n",
       "      <td>4.0</td>\n",
       "      <td>Yes</td>\n",
       "    </tr>\n",
       "    <tr>\n",
       "      <th>3</th>\n",
       "      <td>4</td>\n",
       "      <td>NaN</td>\n",
       "      <td>85.0</td>\n",
       "      <td>85.0</td>\n",
       "      <td>1.0</td>\n",
       "      <td>No</td>\n",
       "    </tr>\n",
       "    <tr>\n",
       "      <th>4</th>\n",
       "      <td>5</td>\n",
       "      <td>88.0</td>\n",
       "      <td>78.0</td>\n",
       "      <td>90.0</td>\n",
       "      <td>2.5</td>\n",
       "      <td>Yes</td>\n",
       "    </tr>\n",
       "    <tr>\n",
       "      <th>5</th>\n",
       "      <td>6</td>\n",
       "      <td>76.0</td>\n",
       "      <td>NaN</td>\n",
       "      <td>100.0</td>\n",
       "      <td>3.5</td>\n",
       "      <td>Yes</td>\n",
       "    </tr>\n",
       "    <tr>\n",
       "      <th>6</th>\n",
       "      <td>7</td>\n",
       "      <td>95.0</td>\n",
       "      <td>88.0</td>\n",
       "      <td>75.0</td>\n",
       "      <td>4.5</td>\n",
       "      <td>No</td>\n",
       "    </tr>\n",
       "    <tr>\n",
       "      <th>7</th>\n",
       "      <td>8</td>\n",
       "      <td>89.0</td>\n",
       "      <td>92.0</td>\n",
       "      <td>NaN</td>\n",
       "      <td>5.0</td>\n",
       "      <td>Yes</td>\n",
       "    </tr>\n",
       "    <tr>\n",
       "      <th>8</th>\n",
       "      <td>9</td>\n",
       "      <td>101.0</td>\n",
       "      <td>99.0</td>\n",
       "      <td>98.0</td>\n",
       "      <td>10.0</td>\n",
       "      <td>No</td>\n",
       "    </tr>\n",
       "    <tr>\n",
       "      <th>9</th>\n",
       "      <td>10</td>\n",
       "      <td>45.0</td>\n",
       "      <td>50.0</td>\n",
       "      <td>60.0</td>\n",
       "      <td>0.0</td>\n",
       "      <td>No</td>\n",
       "    </tr>\n",
       "  </tbody>\n",
       "</table>\n",
       "</div>"
      ],
      "text/plain": [
       "   Student_ID  Math_Score  Science_Score  Attendance (%)  Study_Hours  \\\n",
       "0           1        78.0           80.0            95.0          2.0   \n",
       "1           2        85.0           89.0            88.0          3.0   \n",
       "2           3        92.0           94.0            92.0          4.0   \n",
       "3           4         NaN           85.0            85.0          1.0   \n",
       "4           5        88.0           78.0            90.0          2.5   \n",
       "5           6        76.0            NaN           100.0          3.5   \n",
       "6           7        95.0           88.0            75.0          4.5   \n",
       "7           8        89.0           92.0             NaN          5.0   \n",
       "8           9       101.0           99.0            98.0         10.0   \n",
       "9          10        45.0           50.0            60.0          0.0   \n",
       "\n",
       "  Participation  \n",
       "0           Yes  \n",
       "1            No  \n",
       "2           Yes  \n",
       "3            No  \n",
       "4           Yes  \n",
       "5           Yes  \n",
       "6            No  \n",
       "7           Yes  \n",
       "8            No  \n",
       "9            No  "
      ]
     },
     "execution_count": 3,
     "metadata": {},
     "output_type": "execute_result"
    }
   ],
   "source": [
    "df"
   ]
  },
  {
   "cell_type": "code",
   "execution_count": 4,
   "id": "c1524f45-878b-46e3-89e8-c2731abba94c",
   "metadata": {},
   "outputs": [
    {
     "name": "stdout",
     "output_type": "stream",
     "text": [
      "<class 'pandas.core.frame.DataFrame'>\n",
      "RangeIndex: 10 entries, 0 to 9\n",
      "Data columns (total 6 columns):\n",
      " #   Column          Non-Null Count  Dtype  \n",
      "---  ------          --------------  -----  \n",
      " 0   Student_ID      10 non-null     int64  \n",
      " 1   Math_Score      9 non-null      float64\n",
      " 2   Science_Score   9 non-null      float64\n",
      " 3   Attendance (%)  9 non-null      float64\n",
      " 4   Study_Hours     10 non-null     float64\n",
      " 5   Participation   10 non-null     object \n",
      "dtypes: float64(4), int64(1), object(1)\n",
      "memory usage: 612.0+ bytes\n"
     ]
    }
   ],
   "source": [
    "df.info()"
   ]
  },
  {
   "cell_type": "code",
   "execution_count": 5,
   "id": "83e595f5-5ab2-4f27-a249-4981a0522482",
   "metadata": {},
   "outputs": [
    {
     "data": {
      "text/html": [
       "<div>\n",
       "<style scoped>\n",
       "    .dataframe tbody tr th:only-of-type {\n",
       "        vertical-align: middle;\n",
       "    }\n",
       "\n",
       "    .dataframe tbody tr th {\n",
       "        vertical-align: top;\n",
       "    }\n",
       "\n",
       "    .dataframe thead th {\n",
       "        text-align: right;\n",
       "    }\n",
       "</style>\n",
       "<table border=\"1\" class=\"dataframe\">\n",
       "  <thead>\n",
       "    <tr style=\"text-align: right;\">\n",
       "      <th></th>\n",
       "      <th>Student_ID</th>\n",
       "      <th>Math_Score</th>\n",
       "      <th>Science_Score</th>\n",
       "      <th>Attendance (%)</th>\n",
       "      <th>Study_Hours</th>\n",
       "    </tr>\n",
       "  </thead>\n",
       "  <tbody>\n",
       "    <tr>\n",
       "      <th>count</th>\n",
       "      <td>10.00000</td>\n",
       "      <td>9.000000</td>\n",
       "      <td>9.000000</td>\n",
       "      <td>9.000000</td>\n",
       "      <td>10.000000</td>\n",
       "    </tr>\n",
       "    <tr>\n",
       "      <th>mean</th>\n",
       "      <td>5.50000</td>\n",
       "      <td>83.222222</td>\n",
       "      <td>83.888889</td>\n",
       "      <td>87.000000</td>\n",
       "      <td>3.550000</td>\n",
       "    </tr>\n",
       "    <tr>\n",
       "      <th>std</th>\n",
       "      <td>3.02765</td>\n",
       "      <td>16.323126</td>\n",
       "      <td>14.312970</td>\n",
       "      <td>12.579746</td>\n",
       "      <td>2.743173</td>\n",
       "    </tr>\n",
       "    <tr>\n",
       "      <th>min</th>\n",
       "      <td>1.00000</td>\n",
       "      <td>45.000000</td>\n",
       "      <td>50.000000</td>\n",
       "      <td>60.000000</td>\n",
       "      <td>0.000000</td>\n",
       "    </tr>\n",
       "    <tr>\n",
       "      <th>25%</th>\n",
       "      <td>3.25000</td>\n",
       "      <td>78.000000</td>\n",
       "      <td>80.000000</td>\n",
       "      <td>85.000000</td>\n",
       "      <td>2.125000</td>\n",
       "    </tr>\n",
       "    <tr>\n",
       "      <th>50%</th>\n",
       "      <td>5.50000</td>\n",
       "      <td>88.000000</td>\n",
       "      <td>88.000000</td>\n",
       "      <td>90.000000</td>\n",
       "      <td>3.250000</td>\n",
       "    </tr>\n",
       "    <tr>\n",
       "      <th>75%</th>\n",
       "      <td>7.75000</td>\n",
       "      <td>92.000000</td>\n",
       "      <td>92.000000</td>\n",
       "      <td>95.000000</td>\n",
       "      <td>4.375000</td>\n",
       "    </tr>\n",
       "    <tr>\n",
       "      <th>max</th>\n",
       "      <td>10.00000</td>\n",
       "      <td>101.000000</td>\n",
       "      <td>99.000000</td>\n",
       "      <td>100.000000</td>\n",
       "      <td>10.000000</td>\n",
       "    </tr>\n",
       "  </tbody>\n",
       "</table>\n",
       "</div>"
      ],
      "text/plain": [
       "       Student_ID  Math_Score  Science_Score  Attendance (%)  Study_Hours\n",
       "count    10.00000    9.000000       9.000000        9.000000    10.000000\n",
       "mean      5.50000   83.222222      83.888889       87.000000     3.550000\n",
       "std       3.02765   16.323126      14.312970       12.579746     2.743173\n",
       "min       1.00000   45.000000      50.000000       60.000000     0.000000\n",
       "25%       3.25000   78.000000      80.000000       85.000000     2.125000\n",
       "50%       5.50000   88.000000      88.000000       90.000000     3.250000\n",
       "75%       7.75000   92.000000      92.000000       95.000000     4.375000\n",
       "max      10.00000  101.000000      99.000000      100.000000    10.000000"
      ]
     },
     "execution_count": 5,
     "metadata": {},
     "output_type": "execute_result"
    }
   ],
   "source": [
    "df.describe()"
   ]
  },
  {
   "cell_type": "code",
   "execution_count": 6,
   "id": "d14e38aa-deb1-4dbf-8cf9-d7ef075d74e7",
   "metadata": {},
   "outputs": [
    {
     "data": {
      "text/plain": [
       "Student_ID        0\n",
       "Math_Score        1\n",
       "Science_Score     1\n",
       "Attendance (%)    1\n",
       "Study_Hours       0\n",
       "Participation     0\n",
       "dtype: int64"
      ]
     },
     "execution_count": 6,
     "metadata": {},
     "output_type": "execute_result"
    }
   ],
   "source": [
    "df.isnull().sum()"
   ]
  },
  {
   "cell_type": "code",
   "execution_count": 7,
   "id": "e7ff8243-d810-4272-b08c-55d7975a0751",
   "metadata": {},
   "outputs": [
    {
     "name": "stderr",
     "output_type": "stream",
     "text": [
      "C:\\Users\\Shruti\\AppData\\Local\\Temp\\ipykernel_31828\\160250859.py:4: FutureWarning: A value is trying to be set on a copy of a DataFrame or Series through chained assignment using an inplace method.\n",
      "The behavior will change in pandas 3.0. This inplace method will never work because the intermediate object on which we are setting values always behaves as a copy.\n",
      "\n",
      "For example, when doing 'df[col].method(value, inplace=True)', try using 'df.method({col: value}, inplace=True)' or df[col] = df[col].method(value) instead, to perform the operation inplace on the original object.\n",
      "\n",
      "\n",
      "  df[feature].fillna(df[feature].mean(), inplace = True)\n"
     ]
    }
   ],
   "source": [
    "features = ['Math_Score','Science_Score','Attendance (%)']\n",
    "\n",
    "for feature in features:\n",
    "    df[feature].fillna(df[feature].mean(), inplace = True)"
   ]
  },
  {
   "cell_type": "code",
   "execution_count": 8,
   "id": "7d6cacce-ce2b-46d1-a786-3dcc3034a8ee",
   "metadata": {},
   "outputs": [
    {
     "data": {
      "text/plain": [
       "Student_ID        0\n",
       "Math_Score        0\n",
       "Science_Score     0\n",
       "Attendance (%)    0\n",
       "Study_Hours       0\n",
       "Participation     0\n",
       "dtype: int64"
      ]
     },
     "execution_count": 8,
     "metadata": {},
     "output_type": "execute_result"
    }
   ],
   "source": [
    "df.isnull().sum()"
   ]
  },
  {
   "cell_type": "code",
   "execution_count": 9,
   "id": "6e57bf5d-de23-450f-bebb-e1a2660bb899",
   "metadata": {},
   "outputs": [
    {
     "data": {
      "image/png": "[encoded data removed]",
      "text/plain": [
       "<Figure size 1000x500 with 1 Axes>"
      ]
     },
     "metadata": {},
     "output_type": "display_data"
    }
   ],
   "source": [
    "# Detect outliers\n",
    "plt.figure(figsize=(10, 5))\n",
    "sns.boxplot(data=df[['Math_Score', 'Science_Score', 'Study_Hours']])\n",
    "plt.show()\n"
   ]
  },
  {
   "cell_type": "code",
   "execution_count": 10,
   "id": "40be8765-1fcb-4ec6-827d-ee4f693983a6",
   "metadata": {},
   "outputs": [],
   "source": [
    "def remove_outliers(df, col):\n",
    "    Q1 = df[col].quantile(0.25)\n",
    "    Q3 = df[col].quantile(0.75)\n",
    "    IQR = Q3 - Q1\n",
    "\n",
    "    lower_bound = Q1 - 1.5*IQR\n",
    "    upper_bound = Q3 + 1.5*IQR\n",
    "\n",
    "    df[col] = np.where(df[col] > upper_bound, upper_bound, \n",
    "                          np.where(df[col] < lower_bound, lower_bound, df[col]))"
   ]
  },
  {
   "cell_type": "code",
   "execution_count": 11,
   "id": "d7d7517e-9e04-45c3-8f02-3377e3d5dcd6",
   "metadata": {},
   "outputs": [],
   "source": [
    "columns = ['Math_Score', 'Science_Score', 'Study_Hours']\n",
    "for col in columns:\n",
    "    remove_outliers(df,col)"
   ]
  },
  {
   "cell_type": "code",
   "execution_count": 12,
   "id": "cae55004-d9c7-4ed7-9068-2297d64951d7",
   "metadata": {},
   "outputs": [],
   "source": [
    "# Remove outliers using Z-score method\n",
    "df['zscore'] = (df['Math_Score'] - df['Math_Score'].mean()) / df['Math_Score'].std()\n",
    "df_cleaned = df[abs(df['zscore']) < 3].drop('zscore', axis=1)\n"
   ]
  },
  {
   "cell_type": "code",
   "execution_count": 13,
   "id": "48f08649-1234-44a4-95a8-1ff4f05cee7a",
   "metadata": {},
   "outputs": [
    {
     "data": {
      "image/png": "[encoded data removed]",
      "text/plain": [
       "<Figure size 1000x500 with 1 Axes>"
      ]
     },
     "metadata": {},
     "output_type": "display_data"
    }
   ],
   "source": [
    "# Detect outliers\n",
    "plt.figure(figsize=(10, 5))\n",
    "sns.boxplot(data=df[['Math_Score', 'Science_Score', 'Study_Hours']])\n",
    "plt.show()\n"
   ]
  },
  {
   "cell_type": "code",
   "execution_count": 14,
   "id": "8fc16704-c9fc-4937-a38f-800e64638e8f",
   "metadata": {},
   "outputs": [
    {
     "name": "stderr",
     "output_type": "stream",
     "text": [
      "C:\\Users\\Shruti\\AppData\\Local\\Temp\\ipykernel_31828\\1842139807.py:1: FutureWarning: Downcasting behavior in `replace` is deprecated and will be removed in a future version. To retain the old behavior, explicitly call `result.infer_objects(copy=False)`. To opt-in to the future behavior, set `pd.set_option('future.no_silent_downcasting', True)`\n",
      "  df['Participation'] = df['Participation'].replace({'Yes': 1, 'No': 0})\n"
     ]
    },
    {
     "data": {
      "text/html": [
       "<div>\n",
       "<style scoped>\n",
       "    .dataframe tbody tr th:only-of-type {\n",
       "        vertical-align: middle;\n",
       "    }\n",
       "\n",
       "    .dataframe tbody tr th {\n",
       "        vertical-align: top;\n",
       "    }\n",
       "\n",
       "    .dataframe thead th {\n",
       "        text-align: right;\n",
       "    }\n",
       "</style>\n",
       "<table border=\"1\" class=\"dataframe\">\n",
       "  <thead>\n",
       "    <tr style=\"text-align: right;\">\n",
       "      <th></th>\n",
       "      <th>Student_ID</th>\n",
       "      <th>Math_Score</th>\n",
       "      <th>Science_Score</th>\n",
       "      <th>Attendance (%)</th>\n",
       "      <th>Study_Hours</th>\n",
       "      <th>Participation</th>\n",
       "      <th>zscore</th>\n",
       "    </tr>\n",
       "  </thead>\n",
       "  <tbody>\n",
       "    <tr>\n",
       "      <th>0</th>\n",
       "      <td>1</td>\n",
       "      <td>78.000000</td>\n",
       "      <td>80.0</td>\n",
       "      <td>95.0</td>\n",
       "      <td>2.0</td>\n",
       "      <td>1</td>\n",
       "      <td>-0.614921</td>\n",
       "    </tr>\n",
       "    <tr>\n",
       "      <th>1</th>\n",
       "      <td>2</td>\n",
       "      <td>85.000000</td>\n",
       "      <td>89.0</td>\n",
       "      <td>88.0</td>\n",
       "      <td>3.0</td>\n",
       "      <td>0</td>\n",
       "      <td>0.012448</td>\n",
       "    </tr>\n",
       "    <tr>\n",
       "      <th>2</th>\n",
       "      <td>3</td>\n",
       "      <td>92.000000</td>\n",
       "      <td>94.0</td>\n",
       "      <td>92.0</td>\n",
       "      <td>4.0</td>\n",
       "      <td>1</td>\n",
       "      <td>0.639816</td>\n",
       "    </tr>\n",
       "    <tr>\n",
       "      <th>3</th>\n",
       "      <td>4</td>\n",
       "      <td>83.222222</td>\n",
       "      <td>85.0</td>\n",
       "      <td>85.0</td>\n",
       "      <td>1.0</td>\n",
       "      <td>0</td>\n",
       "      <td>-0.146884</td>\n",
       "    </tr>\n",
       "    <tr>\n",
       "      <th>4</th>\n",
       "      <td>5</td>\n",
       "      <td>88.000000</td>\n",
       "      <td>78.0</td>\n",
       "      <td>90.0</td>\n",
       "      <td>2.5</td>\n",
       "      <td>1</td>\n",
       "      <td>0.281320</td>\n",
       "    </tr>\n",
       "  </tbody>\n",
       "</table>\n",
       "</div>"
      ],
      "text/plain": [
       "   Student_ID  Math_Score  Science_Score  Attendance (%)  Study_Hours  \\\n",
       "0           1   78.000000           80.0            95.0          2.0   \n",
       "1           2   85.000000           89.0            88.0          3.0   \n",
       "2           3   92.000000           94.0            92.0          4.0   \n",
       "3           4   83.222222           85.0            85.0          1.0   \n",
       "4           5   88.000000           78.0            90.0          2.5   \n",
       "\n",
       "   Participation    zscore  \n",
       "0              1 -0.614921  \n",
       "1              0  0.012448  \n",
       "2              1  0.639816  \n",
       "3              0 -0.146884  \n",
       "4              1  0.281320  "
      ]
     },
     "execution_count": 14,
     "metadata": {},
     "output_type": "execute_result"
    }
   ],
   "source": [
    "df['Participation'] = df['Participation'].replace({'Yes': 1, 'No': 0})\n",
    "df.head()\n"
   ]
  },
  {
   "cell_type": "code",
   "execution_count": null,
   "id": "44db80c7-3301-410d-b732-d453c6265481",
   "metadata": {},
   "outputs": [],
   "source": []
  },
  {
   "cell_type": "code",
   "execution_count": 15,
   "id": "7065268d-b68e-499a-bf0b-e599b5b198fe",
   "metadata": {},
   "outputs": [
    {
     "data": {
      "text/html": [
       "<div>\n",
       "<style scoped>\n",
       "    .dataframe tbody tr th:only-of-type {\n",
       "        vertical-align: middle;\n",
       "    }\n",
       "\n",
       "    .dataframe tbody tr th {\n",
       "        vertical-align: top;\n",
       "    }\n",
       "\n",
       "    .dataframe thead th {\n",
       "        text-align: right;\n",
       "    }\n",
       "</style>\n",
       "<table border=\"1\" class=\"dataframe\">\n",
       "  <thead>\n",
       "    <tr style=\"text-align: right;\">\n",
       "      <th></th>\n",
       "      <th>math_standardized</th>\n",
       "      <th>reading_standardized</th>\n",
       "      <th>writing_standardized</th>\n",
       "    </tr>\n",
       "  </thead>\n",
       "  <tbody>\n",
       "    <tr>\n",
       "      <th>math_standardized</th>\n",
       "      <td>1.000000</td>\n",
       "      <td>0.874041</td>\n",
       "      <td>0.825979</td>\n",
       "    </tr>\n",
       "    <tr>\n",
       "      <th>reading_standardized</th>\n",
       "      <td>0.874041</td>\n",
       "      <td>1.000000</td>\n",
       "      <td>0.852583</td>\n",
       "    </tr>\n",
       "    <tr>\n",
       "      <th>writing_standardized</th>\n",
       "      <td>0.825979</td>\n",
       "      <td>0.852583</td>\n",
       "      <td>1.000000</td>\n",
       "    </tr>\n",
       "  </tbody>\n",
       "</table>\n",
       "</div>"
      ],
      "text/plain": [
       "                      math_standardized  reading_standardized  \\\n",
       "math_standardized              1.000000              0.874041   \n",
       "reading_standardized           0.874041              1.000000   \n",
       "writing_standardized           0.825979              0.852583   \n",
       "\n",
       "                      writing_standardized  \n",
       "math_standardized                 0.825979  \n",
       "reading_standardized              0.852583  \n",
       "writing_standardized              1.000000  "
      ]
     },
     "execution_count": 15,
     "metadata": {},
     "output_type": "execute_result"
    }
   ],
   "source": [
    "from sklearn.preprocessing import MinMaxScaler, StandardScaler\n",
    "\n",
    "# Initialize scalers\n",
    "minmax_scaler = MinMaxScaler()\n",
    "standard_scaler = StandardScaler()\n",
    "#'Math_Score', 'Science_Score', 'Study_Hours'\n",
    "\n",
    "# Min-max scaling\n",
    "df[\"math_scaled\"] = minmax_scaler.fit_transform(df[[\"Math_Score\"]])\n",
    "df[\"reading_scaled\"] = minmax_scaler.fit_transform(df[[\"Science_Score\"]])\n",
    "df[\"writing_scaled\"] = minmax_scaler.fit_transform(df[[\"Study_Hours\"]])\n",
    "\n",
    "# Z-score Standardization (mean = 0, std = 1)\n",
    "df[\"math_standardized\"] = standard_scaler.fit_transform(df[[\"Math_Score\"]])\n",
    "df[\"reading_standardized\"] = standard_scaler.fit_transform(df[[\"Science_Score\"]])\n",
    "df[\"writing_standardized\"] = standard_scaler.fit_transform(df[[\"Study_Hours\"]])\n",
    "\n",
    "df[['math_standardized', 'reading_standardized', 'writing_standardized']].corr()"
   ]
  },
  {
   "cell_type": "code",
   "execution_count": 21,
   "id": "a2d44e3e-e704-413c-84f9-b83ea143d740",
   "metadata": {},
   "outputs": [
    {
     "data": {
      "image/png": "[encoded data removed]",
      "text/plain": [
       "<Figure size 1200x500 with 3 Axes>"
      ]
     },
     "metadata": {},
     "output_type": "display_data"
    }
   ],
   "source": [
    "# Plot histogram and KDE\n",
    "plt.figure(figsize=(12, 5))\n",
    "for i, col in enumerate([\"Math_Score\", \"Science_Score\", \"Study_Hours\"], 1):\n",
    "    plt.subplot(1, 3, i)\n",
    "    sns.histplot(df[col], bins=10, kde=True, color=\"skyblue\")\n",
    "    plt.title(f\"Histogram & KDE of {col}\")\n",
    "plt.tight_layout()\n",
    "plt.show()\n"
   ]
  },
  {
   "cell_type": "code",
   "execution_count": 17,
   "id": "2ccdc60c-38bc-46da-945d-dd02affda021",
   "metadata": {},
   "outputs": [],
   "source": [
    "df[\"Math_Score_log\"] = np.log1p(df[\"Math_Score\"])  \n"
   ]
  },
  {
   "cell_type": "code",
   "execution_count": 18,
   "id": "b1bda2dc-5953-4ffa-afb3-77db42469e11",
   "metadata": {},
   "outputs": [],
   "source": [
    "df[\"Math_Score_sqrt\"] = np.sqrt(df[\"Science_Score\"])\n"
   ]
  },
  {
   "cell_type": "code",
   "execution_count": 19,
   "id": "dc5f9e0c-0f9a-48da-8847-8fe71676622f",
   "metadata": {},
   "outputs": [],
   "source": [
    "\n",
    "df[\"Study_log\"] = np.log1p(df[\"Study_Hours\"])\n",
    "df[\"Study_sqrt\"] = np.sqrt(df[\"Study_Hours\"])\n",
    "df[\"Study_cbrt\"] = np.cbrt(df[\"Study_Hours\"])"
   ]
  },
  {
   "cell_type": "code",
   "execution_count": null,
   "id": "366ce75e-d103-4ec5-b9a9-ae9d6c152be7",
   "metadata": {},
   "outputs": [],
   "source": []
  }
 ],
 "metadata": {
  "kernelspec": {
   "display_name": "Python 3 (ipykernel)",
   "language": "python",
   "name": "python3"
  },
  "language_info": {
   "codemirror_mode": {
    "name": "ipython",
    "version": 3
   },
   "file_extension": ".py",
   "mimetype": "text/x-python",
   "name": "python",
   "nbconvert_exporter": "python",
   "pygments_lexer": "ipython3",
   "version": "3.13.3"
  }
 },
 "nbformat": 4,
 "nbformat_minor": 5
}
